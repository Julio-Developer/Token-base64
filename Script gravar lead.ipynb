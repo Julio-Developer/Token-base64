{
 "cells": [
  {
   "cell_type": "markdown",
   "id": "84aa8eb2-2d4b-4bd0-a197-840430d7a565",
   "metadata": {},
   "source": [
    "# Criando o token na base 64"
   ]
  },
  {
   "cell_type": "markdown",
   "id": "488f5ac7-9292-4a5b-ae17-bf682271a9d7",
   "metadata": {},
   "source": [
    "### Importando as bibliotecas"
   ]
  },
  {
   "cell_type": "code",
   "execution_count": null,
   "id": "50e8b660-1bbc-4f10-9a33-60f3bb0a5738",
   "metadata": {},
   "outputs": [],
   "source": [
    "from pybase64 import b64encode\n",
    "from datetime import date\n",
    "from datetime import datetime"
   ]
  },
  {
   "cell_type": "markdown",
   "id": "ef1aa70f-0507-47f6-aad4-96f6b02ec0c8",
   "metadata": {},
   "source": [
    "#### Pegando a Data e hora atual"
   ]
  },
  {
   "cell_type": "code",
   "execution_count": 24,
   "id": "629da204-2fa6-41f0-aee3-04b5cd34d4e6",
   "metadata": {},
   "outputs": [],
   "source": [
    "GetDateandHourNow = datetime.now()\n",
    "DateandHourNow = GetDateandHourNow.strftime('%Y%m%d%H%M%S')\n",
    "DayofWeek = GetDateandHourNow.strftime('%w')"
   ]
  },
  {
   "cell_type": "markdown",
   "id": "80ea5d39-4ac9-45ca-8c17-bfbbf73a43e7",
   "metadata": {},
   "source": [
    "#### Dados da integração"
   ]
  },
  {
   "cell_type": "code",
   "execution_count": 28,
   "id": "100789ff-9b56-49d6-9b05-9a94b4e370a3",
   "metadata": {},
   "outputs": [],
   "source": [
    "TokenOrigen = 'ac7470e2aed06703e0181c195d149de5'\n",
    "TokenTypeLead = '65ba2ceb99baef90c363bf395c1a9bdd'\n",
    "IdProject = '2'\n",
    "IdTypeLead = '53'"
   ]
  },
  {
   "cell_type": "markdown",
   "id": "d6643fe3-e906-40c5-a556-8bbf3c3e0ca0",
   "metadata": {},
   "source": [
    "#### Concatenando e Convertendo os dados para base64"
   ]
  },
  {
   "cell_type": "code",
   "execution_count": 29,
   "id": "d281b2a9-4f2b-4462-b6e9-0da2263a8bd0",
   "metadata": {},
   "outputs": [
    {
     "data": {
      "text/plain": [
       "'20221221160705ac7470e2aed06703e0181c195d149de5|2|65ba2ceb99baef90c363bf395c1a9bdd|3'"
      ]
     },
     "execution_count": 29,
     "metadata": {},
     "output_type": "execute_result"
    }
   ],
   "source": [
    "ConcatAllParameters = f'{DateandHourNow}{TokenOrigen}|{IdProject}|{TokenTypeLead}|{DayofWeek}'\n",
    "ConcatAllParameters"
   ]
  },
  {
   "cell_type": "markdown",
   "id": "75560e5f-143d-403b-87ca-2e28d67fee70",
   "metadata": {},
   "source": [
    "#### Convertendo para a base64"
   ]
  },
  {
   "cell_type": "code",
   "execution_count": 31,
   "id": "8f480465-9545-429d-9579-32f50bfb07ab",
   "metadata": {},
   "outputs": [
    {
     "data": {
      "text/plain": [
       "b'MjAyMjEyMjExNjA3MDVhYzc0NzBlMmFlZDA2NzAzZTAxODFjMTk1ZDE0OWRlNXwyfDY1YmEyY2ViOTliYWVmOTBjMzYzYmYzOTVjMWE5YmRkfDM='"
      ]
     },
     "execution_count": 31,
     "metadata": {},
     "output_type": "execute_result"
    }
   ],
   "source": [
    "ConvertForBase64 = b64encode(b'20221221160705ac7470e2aed06703e0181c195d149de5|2|65ba2ceb99baef90c363bf395c1a9bdd|3')\n",
    "ConvertForBase64"
   ]
  },
  {
   "cell_type": "code",
   "execution_count": null,
   "id": "35fc4fed-e7b0-4b32-918b-5fc0760fae3b",
   "metadata": {},
   "outputs": [],
   "source": []
  }
 ],
 "metadata": {
  "kernelspec": {
   "display_name": "Python 3 (ipykernel)",
   "language": "python",
   "name": "python3"
  },
  "language_info": {
   "codemirror_mode": {
    "name": "ipython",
    "version": 3
   },
   "file_extension": ".py",
   "mimetype": "text/x-python",
   "name": "python",
   "nbconvert_exporter": "python",
   "pygments_lexer": "ipython3",
   "version": "3.10.8"
  }
 },
 "nbformat": 4,
 "nbformat_minor": 5
}
